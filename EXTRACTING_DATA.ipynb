{
  "nbformat": 4,
  "nbformat_minor": 0,
  "metadata": {
    "colab": {
      "name": "EXTRACTING_DATA.ipynb",
      "provenance": []
    },
    "kernelspec": {
      "name": "python3",
      "display_name": "Python 3"
    }
  },
  "cells": [
    {
      "cell_type": "markdown",
      "metadata": {
        "id": "jqrkfMUo5vh7",
        "colab_type": "text"
      },
      "source": [
        "__EXTRACT INFORMATION__"
      ]
    },
    {
      "cell_type": "code",
      "metadata": {
        "id": "McEQYvWd2klR",
        "colab_type": "code",
        "colab": {}
      },
      "source": [
        "data = pd.read_csv('emails.csv')"
      ],
      "execution_count": 0,
      "outputs": []
    },
    {
      "cell_type": "code",
      "metadata": {
        "colab_type": "code",
        "id": "UkqL1lR2wAbK",
        "outputId": "b99163cd-56be-42cb-b692-60d2a8907cbe",
        "colab": {
          "base_uri": "https://localhost:8080/",
          "height": 204
        }
      },
      "source": [
        "data.head()"
      ],
      "execution_count": 0,
      "outputs": [
        {
          "output_type": "execute_result",
          "data": {
            "text/html": [
              "<div>\n",
              "<style scoped>\n",
              "    .dataframe tbody tr th:only-of-type {\n",
              "        vertical-align: middle;\n",
              "    }\n",
              "\n",
              "    .dataframe tbody tr th {\n",
              "        vertical-align: top;\n",
              "    }\n",
              "\n",
              "    .dataframe thead th {\n",
              "        text-align: right;\n",
              "    }\n",
              "</style>\n",
              "<table border=\"1\" class=\"dataframe\">\n",
              "  <thead>\n",
              "    <tr style=\"text-align: right;\">\n",
              "      <th></th>\n",
              "      <th>file</th>\n",
              "      <th>message</th>\n",
              "    </tr>\n",
              "  </thead>\n",
              "  <tbody>\n",
              "    <tr>\n",
              "      <th>0</th>\n",
              "      <td>allen-p/_sent_mail/1.</td>\n",
              "      <td>Message-ID: &lt;18782981.1075855378110.JavaMail.e...</td>\n",
              "    </tr>\n",
              "    <tr>\n",
              "      <th>1</th>\n",
              "      <td>allen-p/_sent_mail/10.</td>\n",
              "      <td>Message-ID: &lt;15464986.1075855378456.JavaMail.e...</td>\n",
              "    </tr>\n",
              "    <tr>\n",
              "      <th>2</th>\n",
              "      <td>allen-p/_sent_mail/100.</td>\n",
              "      <td>Message-ID: &lt;24216240.1075855687451.JavaMail.e...</td>\n",
              "    </tr>\n",
              "    <tr>\n",
              "      <th>3</th>\n",
              "      <td>allen-p/_sent_mail/1000.</td>\n",
              "      <td>Message-ID: &lt;13505866.1075863688222.JavaMail.e...</td>\n",
              "    </tr>\n",
              "    <tr>\n",
              "      <th>4</th>\n",
              "      <td>allen-p/_sent_mail/1001.</td>\n",
              "      <td>Message-ID: &lt;30922949.1075863688243.JavaMail.e...</td>\n",
              "    </tr>\n",
              "  </tbody>\n",
              "</table>\n",
              "</div>"
            ],
            "text/plain": [
              "                       file                                            message\n",
              "0     allen-p/_sent_mail/1.  Message-ID: <18782981.1075855378110.JavaMail.e...\n",
              "1    allen-p/_sent_mail/10.  Message-ID: <15464986.1075855378456.JavaMail.e...\n",
              "2   allen-p/_sent_mail/100.  Message-ID: <24216240.1075855687451.JavaMail.e...\n",
              "3  allen-p/_sent_mail/1000.  Message-ID: <13505866.1075863688222.JavaMail.e...\n",
              "4  allen-p/_sent_mail/1001.  Message-ID: <30922949.1075863688243.JavaMail.e..."
            ]
          },
          "metadata": {
            "tags": []
          },
          "execution_count": 10
        }
      ]
    },
    {
      "cell_type": "code",
      "metadata": {
        "colab_type": "code",
        "id": "9AJL2GxYwKXZ",
        "outputId": "a0db0360-c1ac-4624-d59d-a954dbcac972",
        "colab": {
          "base_uri": "https://localhost:8080/",
          "height": 340
        }
      },
      "source": [
        "print(data.loc[0][\"message\"])"
      ],
      "execution_count": 0,
      "outputs": [
        {
          "output_type": "stream",
          "text": [
            "Message-ID: <18782981.1075855378110.JavaMail.evans@thyme>\n",
            "Date: Mon, 14 May 2001 16:39:00 -0700 (PDT)\n",
            "From: phillip.allen@enron.com\n",
            "To: tim.belden@enron.com\n",
            "Subject: \n",
            "Mime-Version: 1.0\n",
            "Content-Type: text/plain; charset=us-ascii\n",
            "Content-Transfer-Encoding: 7bit\n",
            "X-From: Phillip K Allen\n",
            "X-To: Tim Belden <Tim Belden/Enron@EnronXGate>\n",
            "X-cc: \n",
            "X-bcc: \n",
            "X-Folder: \\Phillip_Allen_Jan2002_1\\Allen, Phillip K.\\'Sent Mail\n",
            "X-Origin: Allen-P\n",
            "X-FileName: pallen (Non-Privileged).pst\n",
            "\n",
            "Here is our forecast\n",
            "\n",
            " \n"
          ],
          "name": "stdout"
        }
      ]
    },
    {
      "cell_type": "code",
      "metadata": {
        "colab_type": "code",
        "id": "wuhbPUbm7LR2",
        "outputId": "7c1627dd-650b-4e1c-b571-a8df63c03cf6",
        "colab": {
          "base_uri": "https://localhost:8080/",
          "height": 34
        }
      },
      "source": [
        "#https://docs.python.org/3/library/email.parser.html\n",
        "headers = [header for header in data.columns]\n",
        "\n",
        "headers\n"
      ],
      "execution_count": 0,
      "outputs": [
        {
          "output_type": "execute_result",
          "data": {
            "text/plain": [
              "['file', 'message']"
            ]
          },
          "metadata": {
            "tags": []
          },
          "execution_count": 12
        }
      ]
    },
    {
      "cell_type": "code",
      "metadata": {
        "colab_type": "code",
        "id": "aKg-ZEY7OmCQ",
        "outputId": "15d1a99e-613a-48aa-c118-6dbb74e5b8f6",
        "colab": {
          "base_uri": "https://localhost:8080/",
          "height": 34
        }
      },
      "source": [
        "import email\n",
        "#this function is used to create ditionary which is used to make data frame\n",
        "def insert_value(dictionary, key, value):\n",
        "    if key in dictionary:\n",
        "        values = dictionary.get(key)\n",
        "        values.append(value)\n",
        "        dictionary[key] = values\n",
        "    else:\n",
        "        dictionary[key] = [value]\n",
        "    return dictionary\n",
        "\n",
        "def get_headers(df, header_names):\n",
        "    headers = {}\n",
        "    messages = df[\"message\"]\n",
        "    for message in messages:\n",
        "      #taking single row and taking full message part\n",
        "        e = email.message_from_string(message)\n",
        "        for item in header_names:\n",
        "            header = e.get(item)\n",
        "            #get the information and store the information in dictionary\n",
        "            insert_value(dictionary = headers, key = item, value = header) \n",
        "    print(\"Successfully retrieved header information!\")\n",
        "    return headers\n",
        "header_names = [\"Date\", \"Subject\", \"X-Folder\", \"X-From\", \"X-To\",\"From\",\"To\",\"X-Origin\"]    \n",
        "headers = get_headers(data, header_names)"
      ],
      "execution_count": 0,
      "outputs": [
        {
          "output_type": "stream",
          "text": [
            "Successfully retrieved header information!\n"
          ],
          "name": "stdout"
        }
      ]
    },
    {
      "cell_type": "code",
      "metadata": {
        "colab_type": "code",
        "id": "XUhhWS9uSkru",
        "outputId": "a2281c11-f909-448a-b7b9-368ac3334741",
        "colab": {
          "base_uri": "https://localhost:8080/",
          "height": 34
        }
      },
      "source": [
        "def get_messages(df):\n",
        "    messages = []\n",
        "    for item in df[\"message\"]:\n",
        "        # Return a message object structure from a string\n",
        "        e = email.message_from_string(item)    \n",
        "        # get payload is used to extract message body  \n",
        "        message_body = e.get_payload()\n",
        "        message_body = message_body.lower()\n",
        "        messages.append(message_body)\n",
        "    print(\"Successfully retrieved message body from e-mails!\")\n",
        "    return messages\n",
        "msg_body = get_messages(data)\n",
        "data[\"Message-Body\"] = msg_body"
      ],
      "execution_count": 0,
      "outputs": [
        {
          "output_type": "stream",
          "text": [
            "Successfully retrieved message body from e-mails!\n"
          ],
          "name": "stdout"
        }
      ]
    },
    {
      "cell_type": "code",
      "metadata": {
        "colab_type": "code",
        "outputId": "a2281c11-f909-448a-b7b9-368ac3334741",
        "id": "nuAgwXQ_6YWp",
        "colab": {
          "base_uri": "https://localhost:8080/",
          "height": 34
        }
      },
      "source": [
        "def get_messages(df):\n",
        "    messages = []\n",
        "    for item in df[\"message\"]:\n",
        "        # Return a message object structure from a string\n",
        "        e = email.message_from_string(item)    \n",
        "        # get payload is used to extract message body  \n",
        "        message_body = e.get_payload()\n",
        "        message_body = message_body.lower()\n",
        "        messages.append(message_body)\n",
        "    print(\"Successfully retrieved message body from e-mails!\")\n",
        "    return messages\n",
        "msg_body = get_messages(data)\n",
        "data[\"Message-Body\"] = msg_body"
      ],
      "execution_count": 0,
      "outputs": [
        {
          "output_type": "stream",
          "text": [
            "Successfully retrieved message body from e-mails!\n"
          ],
          "name": "stdout"
        }
      ]
    },
    {
      "cell_type": "code",
      "metadata": {
        "colab_type": "code",
        "id": "X9E-33DMIS4_",
        "outputId": "03fea9ed-cd0e-4676-b864-59670565c439",
        "colab": {
          "base_uri": "https://localhost:8080/",
          "height": 34
        }
      },
      "source": [
        "def add_name(df, column, labels):\n",
        "    new_data = {}\n",
        "    for item in df[column]: \n",
        "        tokens = item.split('/')\n",
        "        for i in range(0, len(labels)):\n",
        "            value = tokens[i]\n",
        "            key = labels[i]\n",
        "            new_data = insert_value(new_data, key, value)        \n",
        "    for key, value in new_data.items():\n",
        "        df[key] = pd.Series(value)\n",
        "    print(\"Successfully added new column!\")\n",
        "    return df\n",
        "data = add_name(df = data, column = \"file\", labels = [\"employee\"])\n"
      ],
      "execution_count": 0,
      "outputs": [
        {
          "output_type": "stream",
          "text": [
            "Successfully added new column!\n"
          ],
          "name": "stdout"
        }
      ]
    },
    {
      "cell_type": "code",
      "metadata": {
        "colab_type": "code",
        "id": "f5yvGg02S9lK",
        "outputId": "31ffafad-1bfa-4db3-cb4c-53e3ba2120e8",
        "colab": {
          "base_uri": "https://localhost:8080/",
          "height": 666
        }
      },
      "source": [
        "def add_headers(df, header_list):\n",
        "    for label in header_list:\n",
        "        df_new = pd.DataFrame(headers[label], columns = [label])\n",
        "        if label not in df.columns:\n",
        "            df = pd.concat([df, df_new], axis = 1)\n",
        "    return df\n",
        "remaining_headers = [\"Date\", \"Subject\", \"X-To\", \"X-From\", \"X-Folder\",\"From\",\"To\",\"X-Origin\"]\n",
        "data = add_headers(df = data, header_list = remaining_headers)\n",
        "data.drop(columns=['message'],axis=1 , inplace= True)\n",
        "data.head()"
      ],
      "execution_count": 0,
      "outputs": [
        {
          "output_type": "execute_result",
          "data": {
            "text/html": [
              "<div>\n",
              "<style scoped>\n",
              "    .dataframe tbody tr th:only-of-type {\n",
              "        vertical-align: middle;\n",
              "    }\n",
              "\n",
              "    .dataframe tbody tr th {\n",
              "        vertical-align: top;\n",
              "    }\n",
              "\n",
              "    .dataframe thead th {\n",
              "        text-align: right;\n",
              "    }\n",
              "</style>\n",
              "<table border=\"1\" class=\"dataframe\">\n",
              "  <thead>\n",
              "    <tr style=\"text-align: right;\">\n",
              "      <th></th>\n",
              "      <th>file</th>\n",
              "      <th>Message-Body</th>\n",
              "      <th>employee</th>\n",
              "      <th>Date</th>\n",
              "      <th>Subject</th>\n",
              "      <th>X-To</th>\n",
              "      <th>X-From</th>\n",
              "      <th>X-Folder</th>\n",
              "      <th>From</th>\n",
              "      <th>To</th>\n",
              "      <th>X-Origin</th>\n",
              "    </tr>\n",
              "  </thead>\n",
              "  <tbody>\n",
              "    <tr>\n",
              "      <th>0</th>\n",
              "      <td>allen-p/_sent_mail/1.</td>\n",
              "      <td>here is our forecast\\n\\n</td>\n",
              "      <td>allen-p</td>\n",
              "      <td>Mon, 14 May 2001 16:39:00 -0700 (PDT)</td>\n",
              "      <td></td>\n",
              "      <td>Tim Belden &lt;Tim Belden/Enron@EnronXGate&gt;</td>\n",
              "      <td>Phillip K Allen</td>\n",
              "      <td>\\Phillip_Allen_Jan2002_1\\Allen, Phillip K.\\'Se...</td>\n",
              "      <td>phillip.allen@enron.com</td>\n",
              "      <td>tim.belden@enron.com</td>\n",
              "      <td>Allen-P</td>\n",
              "    </tr>\n",
              "    <tr>\n",
              "      <th>1</th>\n",
              "      <td>allen-p/_sent_mail/10.</td>\n",
              "      <td>traveling to have a business meeting takes the...</td>\n",
              "      <td>allen-p</td>\n",
              "      <td>Fri, 4 May 2001 13:51:00 -0700 (PDT)</td>\n",
              "      <td>Re:</td>\n",
              "      <td>John J Lavorato &lt;John J Lavorato/ENRON@enronXg...</td>\n",
              "      <td>Phillip K Allen</td>\n",
              "      <td>\\Phillip_Allen_Jan2002_1\\Allen, Phillip K.\\'Se...</td>\n",
              "      <td>phillip.allen@enron.com</td>\n",
              "      <td>john.lavorato@enron.com</td>\n",
              "      <td>Allen-P</td>\n",
              "    </tr>\n",
              "    <tr>\n",
              "      <th>2</th>\n",
              "      <td>allen-p/_sent_mail/100.</td>\n",
              "      <td>test successful.  way to go!!!</td>\n",
              "      <td>allen-p</td>\n",
              "      <td>Wed, 18 Oct 2000 03:00:00 -0700 (PDT)</td>\n",
              "      <td>Re: test</td>\n",
              "      <td>Leah Van Arsdall</td>\n",
              "      <td>Phillip K Allen</td>\n",
              "      <td>\\Phillip_Allen_Dec2000\\Notes Folders\\'sent mail</td>\n",
              "      <td>phillip.allen@enron.com</td>\n",
              "      <td>leah.arsdall@enron.com</td>\n",
              "      <td>Allen-P</td>\n",
              "    </tr>\n",
              "    <tr>\n",
              "      <th>3</th>\n",
              "      <td>allen-p/_sent_mail/1000.</td>\n",
              "      <td>randy,\\n\\n can you send me a schedule of the s...</td>\n",
              "      <td>allen-p</td>\n",
              "      <td>Mon, 23 Oct 2000 06:13:00 -0700 (PDT)</td>\n",
              "      <td></td>\n",
              "      <td>Randall L Gay</td>\n",
              "      <td>Phillip K Allen</td>\n",
              "      <td>\\Phillip_Allen_Dec2000\\Notes Folders\\'sent mail</td>\n",
              "      <td>phillip.allen@enron.com</td>\n",
              "      <td>randall.gay@enron.com</td>\n",
              "      <td>Allen-P</td>\n",
              "    </tr>\n",
              "    <tr>\n",
              "      <th>4</th>\n",
              "      <td>allen-p/_sent_mail/1001.</td>\n",
              "      <td>let's shoot for tuesday at 11:45.</td>\n",
              "      <td>allen-p</td>\n",
              "      <td>Thu, 31 Aug 2000 05:07:00 -0700 (PDT)</td>\n",
              "      <td>Re: Hello</td>\n",
              "      <td>Greg Piper</td>\n",
              "      <td>Phillip K Allen</td>\n",
              "      <td>\\Phillip_Allen_Dec2000\\Notes Folders\\'sent mail</td>\n",
              "      <td>phillip.allen@enron.com</td>\n",
              "      <td>greg.piper@enron.com</td>\n",
              "      <td>Allen-P</td>\n",
              "    </tr>\n",
              "  </tbody>\n",
              "</table>\n",
              "</div>"
            ],
            "text/plain": [
              "                       file  ... X-Origin\n",
              "0     allen-p/_sent_mail/1.  ...  Allen-P\n",
              "1    allen-p/_sent_mail/10.  ...  Allen-P\n",
              "2   allen-p/_sent_mail/100.  ...  Allen-P\n",
              "3  allen-p/_sent_mail/1000.  ...  Allen-P\n",
              "4  allen-p/_sent_mail/1001.  ...  Allen-P\n",
              "\n",
              "[5 rows x 11 columns]"
            ]
          },
          "metadata": {
            "tags": []
          },
          "execution_count": 17
        }
      ]
    },
    {
      "cell_type": "code",
      "metadata": {
        "id": "-uIt2Dfv6Db8",
        "colab_type": "code",
        "colab": {}
      },
      "source": [
        ""
      ],
      "execution_count": 0,
      "outputs": []
    }
  ]
}